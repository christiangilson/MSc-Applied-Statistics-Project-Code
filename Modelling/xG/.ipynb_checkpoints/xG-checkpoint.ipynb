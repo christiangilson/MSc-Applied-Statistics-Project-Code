{
 "cells": [
  {
   "cell_type": "markdown",
   "metadata": {},
   "source": [
    "# **Core notebook to build xG model**\n",
    "\n",
    "## Main components:\n",
    "\n",
    "* Data loading;\n",
    "* Any additional data preparation;\n",
    "* Feature engineering:\n",
    "    * https://twitter.com/Soccermatics/status/1260593848973172744?s=20 distance\\*angle\n",
    "    * game state\n",
    "    * shot under pressure\n",
    "    * penalty (based on foul that lead to penalty)\n",
    "    * unfortunately don't have header / foot / weak foot / strong foot\n",
    "    * review soccermatics' notebook on this\n",
    "    * gamestate\n",
    "    * red cards\n",
    "    * start with logistic regression and take it further\n",
    "    * time in game\n",
    "    * pass type (cross / pass / dribble)\n",
    "    * carry length of player taking shot\n",
    "    * established possession (> 5 passes deep into possession)\n",
    "* Modelling;\n",
    "* Model validation."
   ]
  },
  {
   "cell_type": "code",
   "execution_count": null,
   "metadata": {},
   "outputs": [],
   "source": []
  }
 ],
 "metadata": {
  "kernelspec": {
   "display_name": "py37_football",
   "language": "python",
   "name": "py37_football"
  },
  "language_info": {
   "codemirror_mode": {
    "name": "ipython",
    "version": 3
   },
   "file_extension": ".py",
   "mimetype": "text/x-python",
   "name": "python",
   "nbconvert_exporter": "python",
   "pygments_lexer": "ipython3",
   "version": "3.7.8"
  }
 },
 "nbformat": 4,
 "nbformat_minor": 4
}
