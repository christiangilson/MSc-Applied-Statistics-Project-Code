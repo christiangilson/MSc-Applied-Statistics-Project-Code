{
 "cells": [
  {
   "cell_type": "code",
   "execution_count": 1,
   "metadata": {},
   "outputs": [],
   "source": [
    "# standard imports\n",
    "import pandas as pd\n",
    "import numpy as np\n",
    "from collections import Counter\n",
    "\n",
    "# plotting bits\n",
    "import matplotlib.pyplot as plt\n",
    "import os\n",
    "\n",
    "pd.set_option('display.max_rows', 2500)\n",
    "pd.set_option('display.max_columns', 100)\n",
    "\n",
    "# stats packages to fit classification models\n",
    "import statsmodels.api as sm\n",
    "import statsmodels.formula.api as smf\n",
    "from sklearn.model_selection import train_test_split\n",
    "from sklearn import metrics\n",
    "from sklearn.calibration import calibration_curve\n",
    "\n",
    "# importing xG xGils library\n",
    "import xGils.xG as xG\n",
    "\n",
    "# importing seaborn to get colourblind palette for calibration plots\n",
    "import seaborn\n",
    "palette = seaborn.color_palette('colorblind', 6).as_hex()\n",
    "\n",
    "pd.options.mode.chained_assignment = None"
   ]
  },
  {
   "cell_type": "markdown",
   "metadata": {},
   "source": [
    "# **xG Feature Engineering**\n",
    "\n",
    "1. Load in pre-made Opta dataset.\n",
    "2. Load in synthetic data.\n",
    "2. Feature engineering of additional features:\n",
    "    * \"Basic\" features;\n",
    "    * \"Added\" features;\n",
    "    * \"Advanced\" features;\n",
    "    * \"Advanced\" features including synthetic shots.\n",
    "3. Fit logistic / probit regression models.\n",
    "4. Plot calibration curves.\n",
    "5. Calculate model scores.\n",
    "6. Apply xT to Opta dataset.\n",
    "7. Output dataset.\n",
    "\n",
    "**Note, we'll have to construct some of the features before we construct a `df_shots` dataframe.**\n",
    "\n",
    "**Will also want to integrate the synthetic shots and see if that improves things.**\n",
    "(Will have to generate some additional synthetic data for the synthetic shot dataset using appropriate distributions).\n",
    "\n",
    "Take a look at this: https://twitter.com/Soccermatics/status/1260593848973172744?s=20"
   ]
  },
  {
   "cell_type": "markdown",
   "metadata": {},
   "source": [
    "## **1) Loading Opta dataset (which includes Bayesian xT)**"
   ]
  },
  {
   "cell_type": "code",
   "execution_count": 2,
   "metadata": {},
   "outputs": [
    {
     "name": "stdout",
     "output_type": "stream",
     "text": [
      "3126182 rows loaded.\n",
      "\n",
      "CPU times: user 14.8 s, sys: 1.41 s, total: 16.2 s\n",
      "Wall time: 16.4 s\n"
     ]
    }
   ],
   "source": [
    "%%time\n",
    "\n",
    "df = pd.read_csv('/Users/christian/Desktop/University/Birkbeck MSc Applied Statistics/Project/Data/Analysis Ready/Opta Bayesian xT/Bayesian_Opta_xT.csv')\n",
    "\n",
    "# converting the timestamp string to a datetime\n",
    "df['timeStamp'] = pd.to_datetime(df.timeStamp, format='%Y-%m-%d %H:%M:%S.%f')\n",
    "df['kickOffDateTime'] = pd.to_datetime(df.kickOffDateTime, format='%Y-%m-%d %H:%M:%S.%f')\n",
    "\n",
    "print (f'{len(df)} rows loaded.\\n')"
   ]
  },
  {
   "cell_type": "markdown",
   "metadata": {},
   "source": [
    "### **Setting useful event types (may not need this)**"
   ]
  },
  {
   "cell_type": "code",
   "execution_count": 3,
   "metadata": {},
   "outputs": [
    {
     "data": {
      "text/plain": [
       "['2nd Assist',\n",
       " 'Assist',\n",
       " 'Chance Created',\n",
       " 'Cross',\n",
       " 'Pass',\n",
       " 'Failed Pass',\n",
       " 'Offside Pass',\n",
       " 'Dribble',\n",
       " 'Failed Dribble',\n",
       " 'Goal',\n",
       " 'Hit Woodwork',\n",
       " 'Miss',\n",
       " 'Missed Penalty',\n",
       " 'Penalty Saved',\n",
       " 'Shot Blocked',\n",
       " 'Shot Saved']"
      ]
     },
     "execution_count": 3,
     "metadata": {},
     "output_type": "execute_result"
    }
   ],
   "source": [
    "# pass events (inc. crosses)\n",
    "opta_successful_pass_events = ['2nd Assist','Assist','Chance Created','Cross','Pass']\n",
    "opta_failed_pass_events = ['Failed Pass','Offside Pass']\n",
    "\n",
    "# dribble events\n",
    "opta_successful_dribble_events = ['Dribble']\n",
    "opta_failed_dribble_events = ['Failed Dribble']\n",
    "\n",
    "# shot events\n",
    "opta_successful_shot_events = ['Goal']\n",
    "opta_failed_shot_events = ['Hit Woodwork','Miss','Missed Penalty','Penalty Saved','Shot Blocked','Shot Saved']\n",
    "\n",
    "opta_events_successful = opta_successful_pass_events + opta_successful_dribble_events + opta_successful_shot_events\n",
    "opta_events_relevant = opta_successful_pass_events + opta_failed_pass_events + opta_successful_dribble_events + opta_failed_dribble_events + opta_successful_shot_events + opta_failed_shot_events\n",
    "\n",
    "opta_events_relevant"
   ]
  },
  {
   "cell_type": "markdown",
   "metadata": {},
   "source": [
    "## **2) Loading in Synthetic Shot Data**"
   ]
  },
  {
   "cell_type": "code",
   "execution_count": 4,
   "metadata": {},
   "outputs": [],
   "source": [
    "df_synthetic = pd.read_csv('/Users/christian/Desktop/University/Birkbeck MSc Applied Statistics/Project/Data/Synthetic/Synthetic_Shots.csv')"
   ]
  },
  {
   "cell_type": "markdown",
   "metadata": {},
   "source": [
    "## **3) Feature Engineering**\n",
    "\n",
    "#### Binary Response Variable\n",
    "* Shot success = 1 (`goalScoredFlag`)\n",
    "\n",
    "#### Simple Features:\n",
    "* Initial $x$-distance from goal (in metres), (`x_dist_goal`)\n",
    "* Initial $y$-distance from the middle of the pitch (in metres), (`c1_m`)\n",
    "\n",
    "#### Added Features:\n",
    "* Angle from shooting position to the centre of the goal, (`a`)\n",
    "* Amount of goal shooter can see, (`aShooting`)\n",
    "* Distance to goal (metres), (`D`)\n",
    "* Squared distance to goal (metres$^2$), (`Dsquared`)\n",
    "\n",
    "#### Advanced (Contextual) Features:\n",
    "* Game state (the point-in-time difference in goals between the two sides), (`goalDelta`)\n",
    "* Headcount difference due to red cards (e.g. is equal to 1 if 11 Vs 10), (`numReds`)\n",
    "* Player possession duration, (`playerPossessionTimeSec`)\n",
    "* Cumulative team possession sequence duration, (`possessionTimeSec`)\n",
    "* Binary penalty flag (`penaltyFlag`)\n",
    "* Count of defenders providing defensive pressure on the shot (`pressureCountOnShot`)\n",
    "\n",
    "### Contextual Features as Proxies:\n",
    "* Using cumulative team possession sequence duration as a proxy for a counter attack / how set the opposing team is in defence.\n",
    "* Using player possession duration as a proxy for how quickly the player took the shot after receiving the ball.\n",
    "* Count of defenders applying shot pressure a proxy for how open the shot is.\n",
    "\n",
    "**Didn't include previous action as 2nd assists and assists are by definition going to result in a goal, whereas passes and crosses aren't. Don't have separate labels.**"
   ]
  },
  {
   "cell_type": "markdown",
   "metadata": {},
   "source": [
    "### **Applying Contextual Feature Engineering Functions**"
   ]
  },
  {
   "cell_type": "code",
   "execution_count": 5,
   "metadata": {},
   "outputs": [
    {
     "name": "stdout",
     "output_type": "stream",
     "text": [
      "CPU times: user 5min 19s, sys: 13.4 s, total: 5min 32s\n",
      "Wall time: 3min 32s\n"
     ]
    }
   ],
   "source": [
    "%%time\n",
    "\n",
    "df = xG.xG_contextual_feature_engineering(df)"
   ]
  },
  {
   "cell_type": "markdown",
   "metadata": {},
   "source": [
    "### **Applying Geometric Feature Engineering Functions**"
   ]
  },
  {
   "cell_type": "code",
   "execution_count": null,
   "metadata": {},
   "outputs": [
    {
     "name": "stdout",
     "output_type": "stream",
     "text": [
      "Processed 0 shots out of 43813\n",
      "Processed 1000 shots out of 43813\n",
      "Processed 2000 shots out of 43813\n",
      "Processed 3000 shots out of 43813\n",
      "Processed 4000 shots out of 43813\n",
      "Processed 5000 shots out of 43813\n",
      "Processed 6000 shots out of 43813\n",
      "Processed 7000 shots out of 43813\n",
      "Processed 8000 shots out of 43813\n",
      "Processed 9000 shots out of 43813\n",
      "Processed 10000 shots out of 43813\n",
      "Processed 11000 shots out of 43813\n",
      "Processed 12000 shots out of 43813\n",
      "Processed 13000 shots out of 43813\n",
      "Processed 14000 shots out of 43813\n",
      "Processed 15000 shots out of 43813\n",
      "Processed 16000 shots out of 43813\n",
      "Processed 17000 shots out of 43813\n",
      "Processed 18000 shots out of 43813\n",
      "Processed 19000 shots out of 43813\n",
      "Processed 20000 shots out of 43813\n",
      "Processed 21000 shots out of 43813\n",
      "Processed 22000 shots out of 43813\n",
      "Processed 23000 shots out of 43813\n",
      "Processed 24000 shots out of 43813\n",
      "Processed 25000 shots out of 43813\n",
      "Processed 26000 shots out of 43813\n",
      "Processed 27000 shots out of 43813\n",
      "Processed 28000 shots out of 43813\n",
      "Processed 29000 shots out of 43813\n",
      "Processed 30000 shots out of 43813\n",
      "Processed 31000 shots out of 43813\n",
      "Processed 32000 shots out of 43813\n",
      "Processed 33000 shots out of 43813\n"
     ]
    }
   ],
   "source": [
    "%%time\n",
    "\n",
    "df_shots = xG.xG_geometric_shot_feature_engineering(df)"
   ]
  },
  {
   "cell_type": "markdown",
   "metadata": {},
   "source": [
    "### **Saving & Loading the Engineered Shot Data**"
   ]
  },
  {
   "cell_type": "code",
   "execution_count": null,
   "metadata": {},
   "outputs": [],
   "source": [
    "df.to_csv('/Users/christian/Desktop/University/Birkbeck MSc Applied Statistics/Project/Data/Analysis Ready/Opta Engineered Shots/Engineered Events.csv', index=None)\n",
    "df_shots.to_csv('/Users/christian/Desktop/University/Birkbeck MSc Applied Statistics/Project/Data/Analysis Ready/Opta Engineered Shots/Engineered Shots.csv', index=None)"
   ]
  },
  {
   "cell_type": "code",
   "execution_count": null,
   "metadata": {},
   "outputs": [],
   "source": [
    "df_shots.read_csv('/Users/christian/Desktop/University/Birkbeck MSc Applied Statistics/Project/Data/Analysis Ready/Opta Engineered Shots/Engineered Shots.csv')\n",
    "\n",
    "# converting the timestamp string to a datetime\n",
    "df_shots['timeStamp'] = pd.to_datetime(df_shots.timeStamp, format='%Y-%m-%d %H:%M:%S.%f')\n",
    "df_shots['kickOffDateTime'] = pd.to_datetime(df_shots.kickOffDateTime, format='%Y-%m-%d %H:%M:%S.%f')"
   ]
  },
  {
   "cell_type": "markdown",
   "metadata": {},
   "source": [
    "---\n",
    "\n",
    "### **Adding in the synthetic data**\n",
    "\n",
    "* Want to create randomly sampled data for the new contextual features:\n",
    "    * goalDelta\n",
    "    * numReds\n",
    "    * possessionTimeSec\n",
    "    * playerPossessionTimeSec\n",
    "* And will then push it through the geometric function to add the geometric features."
   ]
  },
  {
   "cell_type": "code",
   "execution_count": null,
   "metadata": {},
   "outputs": [],
   "source": [
    "# adding some flags to enable differentiation between real and synthetic shots\n",
    "df_synthetic['eventType'] = 'shot'\n",
    "df_synthetic['realOrSynthetic'] = 'synthetic'\n",
    "df_synthetic['goalScoredFlag'] = df_synthetic.goal\n",
    "\n",
    "# synthesising goalDelta: sampling from normal distribution and rounding to nearest integer\n",
    "df_synthetic['goalDelta'] = np.round(np.random.normal(loc=df_shots.goalDelta.mean(), scale=df_shots.goalDelta.std(), size=len(df_shots)), 0).astype(int)\n",
    "\n",
    "# synthesising numReds: sampling from normal and rounding to nearest integer\n",
    "df_synthetic['numReds'] = np.round(np.random.normal(loc=df_shots.numReds.mean(), scale=df_shots.numReds.std(), size=len(df_shots)), 0).astype(int)\n",
    "\n",
    "# synthesising possessionTimeSec by simulating from exponential with scale = mean (possessionTimeSec is a lifetime)\n",
    "df_synthetic['possessionTimeSec'] = np.random.exponential(scale=df_shots.possessionTimeSec.mean(), size=len(df_shots))\n",
    "\n",
    "# synthesising playerPossessionTimeSec by simulating from an exponential with scale = mean (playerPossessionTimeSec is a lifetime)\n",
    "df_synthetic['playerPossessionTimeSec'] = np.random.exponential(scale=df_shots.playerPossessionTimeSec.mean(), size=len(df_shots))\n",
    "\n",
    "# penaltyFlag, setting to 0 for all synthetic shots because all synthetic shots are taken outside the box\n",
    "df_synthetic['penaltyFlag'] = 0\n",
    "\n",
    "# pressureCountOnShot, setting these to 0, too, given where the synthetic shots are being taken from\n",
    "df_synthetic['pressureCountOnShot'] = 0\n",
    "\n",
    "# passing the synthetic shots dataframe through the geometric shot feature engineering function\n",
    "## dropping the \"goal\" column so that we can easily concatenate the synthetic shots with the real shots\n",
    "df_synthetic_enriched = xG.xG_geometric_shot_feature_engineering(df_synthetic).drop(columns='goal')\n",
    "\n",
    "# concatenating real and synthetic shots\n",
    "## starting by just copying the real shots\n",
    "df_shots_incl_synthetic = df_shots.copy()\n",
    "## marking real shots as real\n",
    "df_shots_incl_synthetic['realOrSynthetic'] = 'real'\n",
    "## then mixing real and synthetic shots\n",
    "df_shots_incl_synthetic = pd.concat([df_shots_incl_synthetic[df_synthetic_enriched.columns], df_synthetic_enriched]).reset_index(drop=True).copy()"
   ]
  },
  {
   "cell_type": "markdown",
   "metadata": {},
   "source": [
    "### **Model Fitting**\n",
    "\n",
    "#### Splitting `df_shots` into training and test dataset, stratifying the dependent variable"
   ]
  },
  {
   "cell_type": "code",
   "execution_count": null,
   "metadata": {},
   "outputs": [],
   "source": [
    "# splitting into a dataframe for training and dataframe for testing\n",
    "## stratifying the successFlag\n",
    "df_shots_train, df_shots_test = train_test_split(df_shots, test_size=0.2, stratify=df_shots.goalScoredFlag, random_state=0, shuffle=True)\n",
    "\n",
    "print (f'Stratified Shot Success Rates:\\n\\nOverall: {100*np.round(df_shots.goalScoredFlag.mean(),3)}%\\nTrain: {100*np.round(df_shots_train.goalScoredFlag.mean(), 3)}%\\nTest: {100*np.round(df_shots_test.goalScoredFlag.mean(), 3)}%\\n')"
   ]
  },
  {
   "cell_type": "markdown",
   "metadata": {},
   "source": [
    "### **Fitting basic model to training data**:"
   ]
  },
  {
   "cell_type": "code",
   "execution_count": null,
   "metadata": {},
   "outputs": [],
   "source": [
    "%%time\n",
    "\n",
    "xG_model_basic = smf.glm(formula=\"goalScoredFlag ~ x_dist_goal + c1_m\", data=df_shots_train\\\n",
    "                 ,family=sm.families.Binomial()).fit()\n",
    "\n",
    "xG_model_basic.summary2()"
   ]
  },
  {
   "cell_type": "markdown",
   "metadata": {},
   "source": [
    "### **Fitting additional features:**"
   ]
  },
  {
   "cell_type": "code",
   "execution_count": null,
   "metadata": {},
   "outputs": [],
   "source": [
    "%%time\n",
    "\n",
    "xG_model_added = smf.glm(formula=\"goalScoredFlag ~  x_dist_goal + c1_m + a + aShooting + D + Dsquared\", data=df_shots_train\\\n",
    "                 ,family=sm.families.Binomial()).fit()\n",
    "\n",
    "xG_model_added.summary2()"
   ]
  },
  {
   "cell_type": "markdown",
   "metadata": {},
   "source": [
    "### **Fitting model to training data with advanced features:**\n"
   ]
  },
  {
   "cell_type": "code",
   "execution_count": null,
   "metadata": {},
   "outputs": [],
   "source": [
    "%%time\n",
    "\n",
    "xG_formula_adv = \"goalScoredFlag ~  x_dist_goal +\\\n",
    "                    c1_m + a + aShooting + D +\\\n",
    "                    Dsquared + possessionTimeSec + playerPossessionTimeSec +\\\n",
    "                    goalDelta + numReds  + D*a + C(penaltyFlag) + pressureCountOnShot\"\n",
    "\n",
    "xG_model_adv = smf.glm(formula=xG_formula_adv, data=df_shots_train\\\n",
    "                 ,family=sm.families.Binomial()).fit()\n",
    "\n",
    "xG_model_adv.summary2()"
   ]
  },
  {
   "cell_type": "markdown",
   "metadata": {},
   "source": [
    "### **Fitting same advanced model but using data including *synthetic shots*.**"
   ]
  },
  {
   "cell_type": "code",
   "execution_count": null,
   "metadata": {},
   "outputs": [],
   "source": [
    "df_shots_train, df_shots_test = train_test_split(df_shots_incl_synthetic, test_size=0.4, stratify=df_shots_incl_synthetic.goalScoredFlag, random_state=0, shuffle=True)\n",
    "\n",
    "# now getting rid of the synthetic shots from the test data\n",
    "df_shots_test = df_shots_test.loc[df_shots_test['realOrSynthetic'] ==  'real'].reset_index(drop=True).copy()\n",
    "\n",
    "print (f'Stratified Shot Success Rates:\\n\\nOverall: {100*np.round(df_shots.goalScoredFlag.mean(),3)}%\\nTrain: {100*np.round(df_shots_train.goalScoredFlag.mean(), 3)}%\\nTest: {100*np.round(df_shots_test.goalScoredFlag.mean(), 3)}%\\n')"
   ]
  },
  {
   "cell_type": "code",
   "execution_count": null,
   "metadata": {},
   "outputs": [],
   "source": [
    "%%time\n",
    "\n",
    "xG_model_adv_syn = smf.glm(formula=xG_formula_adv, data=df_shots_train\\\n",
    "                 ,family=sm.families.Binomial()).fit()\n",
    "\n",
    "xG_model_adv_syn.summary2()"
   ]
  },
  {
   "cell_type": "markdown",
   "metadata": {},
   "source": [
    "---\n",
    "\n",
    "### **Applying *four* xG models to *test* data**"
   ]
  },
  {
   "cell_type": "code",
   "execution_count": null,
   "metadata": {},
   "outputs": [],
   "source": [
    "df_shots_test = xG.apply_xG_model_to_test(df_shots_test, [xG_model_basic, xG_model_added, xG_model_adv, xG_model_adv_syn])"
   ]
  },
  {
   "cell_type": "markdown",
   "metadata": {},
   "source": [
    "---\n",
    "\n",
    "\n",
    "### **Model Validation: Calibration Curves of Models Fit to Test Data**"
   ]
  },
  {
   "cell_type": "markdown",
   "metadata": {},
   "source": [
    "### Calibration Curve: Basic Vs Added Models"
   ]
  },
  {
   "cell_type": "code",
   "execution_count": null,
   "metadata": {},
   "outputs": [],
   "source": [
    "def plot_calibration_curve(df_shots_test, numBins=25, alpha=0.6, saveOutput=0, plotName='xG_calibration_plot'):\n",
    "    \"\"\"\n",
    "    Calibration plots for xG models\n",
    "    \"\"\"\n",
    "    fig = plt.figure(figsize=(10, 15))\n",
    "    \n",
    "    # splitting figure into two subplots\n",
    "    gs = fig.add_gridspec(ncols=1, nrows=2, height_ratios=(2/3, 1/3))\n",
    "    \n",
    "    # defining axes of subplots\n",
    "    ax1 = fig.add_subplot(gs[0])\n",
    "    ax2 = fig.add_subplot(gs[1])\n",
    "\n",
    "    # getting colourbline palette\n",
    "    palette = seaborn.color_palette('colorblind', 6).as_hex()\n",
    "\n",
    "    # Plotting perfect calibration (line y=x)\n",
    "    ax1.plot([0, 1], [0, 1], 'k:', label='Perfectly Calibrated Model', alpha=alpha)\n",
    "\n",
    "    # FOUR calibration curves - Tricky to plot all four at a time, so just do a Simple Vs Advanced\n",
    "    ## 1) Simple Model\n",
    "    fraction_of_positives, mean_predicted_value = calibration_curve(df_shots_test.goalScoredFlag, df_shots_test.xG_basic, n_bins=numBins)\n",
    "    ax1.plot(mean_predicted_value, fraction_of_positives, marker=\"o\", markersize=10, label='Basic Model', alpha = alpha, lw=1, color=palette[4])\n",
    "\n",
    "    ## 2) Added Model\n",
    "    fraction_of_positives, mean_predicted_value = calibration_curve(df_shots_test.goalScoredFlag, df_shots_test.xG_added, n_bins=numBins)\n",
    "    ax1.plot(mean_predicted_value, fraction_of_positives, marker=\"o\", markersize=10, label='Added Features', alpha = alpha, lw=2, color=palette[2])\n",
    "\n",
    "    ## 3) Advanced Model: Canonical (Logit) Link function\n",
    "    fraction_of_positives, mean_predicted_value = calibration_curve(df_shots_test.goalScoredFlag, df_shots_test.xG_adv, n_bins=numBins)\n",
    "    ax1.plot(mean_predicted_value, fraction_of_positives, marker=\"o\", markersize=10, label='Advanced Features', alpha = alpha, lw=3, color=palette[1])\n",
    "\n",
    "    ## 4) Advanced Model: Using Synthetic data to train BUT NOT TEST\n",
    "    fraction_of_positives, mean_predicted_value = calibration_curve(df_shots_test.goalScoredFlag, df_shots_test.xG_syn, n_bins=numBins)\n",
    "    ax1.plot(mean_predicted_value, fraction_of_positives, marker=\"o\", markersize=10, label='Advanced Features + Synthetic Shots', alpha=alpha, lw=4, color=palette[0])\n",
    "\n",
    "    ax1.set_title('Calibration Plot', fontsize=20, pad=10)\n",
    "    ax1.set_ylabel('Fraction of Successful Test Shots', fontsize=16)\n",
    "    ax1.set_xlabel('Mean xG', fontsize=16)\n",
    "\n",
    "    ax1.set_ylim([-0.05, 1.05])\n",
    "    ax1.set_xlim([-0.05, 1.05])\n",
    "\n",
    "    ax1.legend(loc=\"lower right\", fontsize=16)\n",
    "\n",
    "    ax1.tick_params(labelsize=16)\n",
    "\n",
    "    # now plotting histogram\n",
    "    seaborn.distplot(df_shots_test.xG_syn, color=palette[0], label='Advanced Features + Synthetic Shots', kde=False, ax=ax2)\n",
    "    \n",
    "    ax2.set_title('Distribution of xG Test Predictions (Real Shots Only)', fontsize=20, pad=10)\n",
    "    ax2.set_ylabel('Number of Test Shots', fontsize=16)\n",
    "    ax2.set_xlabel('Predicted xG', fontsize=16)\n",
    "    ax2.tick_params(labelsize=16)\n",
    "    ax2.legend(fontsize=16)\n",
    "\n",
    "    plt.tight_layout()\n",
    "\n",
    "    if saveOutput == 1:\n",
    "        plt.savefig(f'/Users/christian/Desktop/University/Birkbeck MSc Applied Statistics/Project/Plots/xG Calibration/{plotName}.pdf', dpi=300, format='pdf', bbox_inches='tight')\n",
    "\n",
    "    return plt.show()"
   ]
  },
  {
   "cell_type": "code",
   "execution_count": null,
   "metadata": {},
   "outputs": [],
   "source": [
    "plot_calibration_curve(df_shots_test, alpha=0.5, saveOutput=1, plotName='xG calibration incl synthetic shots')"
   ]
  },
  {
   "cell_type": "markdown",
   "metadata": {},
   "source": [
    "---\n",
    "\n",
    "### **Applying Logistic Regression Classifier and Calculating Model Fit Metrics**"
   ]
  },
  {
   "cell_type": "code",
   "execution_count": 20,
   "metadata": {},
   "outputs": [
    {
     "name": "stdout",
     "output_type": "stream",
     "text": [
      "Brier Score: 0.07649732734909391\n",
      "\n",
      "Precision Score: 0.6991150442477876\n",
      "\n",
      "Recall Score: 0.08342133051742344\n",
      "\n",
      "F1 Score: 0.1490566037735849\n",
      "\n",
      "AUC Score: 0.5395533048526203\n",
      "\n",
      "AccuracyScore: 0.8978135266795061\n"
     ]
    }
   ],
   "source": [
    "xG.calculate_model_metrics(df_shots_test, 'xG_syn')"
   ]
  },
  {
   "cell_type": "markdown",
   "metadata": {},
   "source": [
    "---\n",
    "\n",
    "### **Applying xG Model (*Trained Using Advanced Features + Synthetic Shots*) to All Real Shots** "
   ]
  },
  {
   "cell_type": "code",
   "execution_count": null,
   "metadata": {},
   "outputs": [],
   "source": [
    "df_shots['xG'] = xG_model_adv_syn.predict(df_shots_test)"
   ]
  },
  {
   "cell_type": "markdown",
   "metadata": {},
   "source": [
    "### **Creating a Simple Dataframe `df_xG` Just Containing `eventId` & `xG` Columns**"
   ]
  },
  {
   "cell_type": "code",
   "execution_count": null,
   "metadata": {},
   "outputs": [],
   "source": [
    "df_xG = df_shots[['eventId','xG']].reset_index(drop=True).copy()"
   ]
  },
  {
   "cell_type": "markdown",
   "metadata": {},
   "source": [
    "### **And Now Joining `df_xG` Back OnTo Original `df`.**\n",
    "\n",
    "> **All non-shots will get an xG of 0**\n",
    "\n",
    "> `excess_xG` defined as `goalScoredFlag` - `xG`"
   ]
  },
  {
   "cell_type": "code",
   "execution_count": null,
   "metadata": {},
   "outputs": [],
   "source": []
  },
  {
   "cell_type": "code",
   "execution_count": null,
   "metadata": {},
   "outputs": [],
   "source": []
  },
  {
   "cell_type": "code",
   "execution_count": null,
   "metadata": {},
   "outputs": [],
   "source": []
  },
  {
   "cell_type": "code",
   "execution_count": null,
   "metadata": {},
   "outputs": [],
   "source": []
  },
  {
   "cell_type": "code",
   "execution_count": 173,
   "metadata": {},
   "outputs": [
    {
     "data": {
      "text/html": [
       "<div>\n",
       "<style scoped>\n",
       "    .dataframe tbody tr th:only-of-type {\n",
       "        vertical-align: middle;\n",
       "    }\n",
       "\n",
       "    .dataframe tbody tr th {\n",
       "        vertical-align: top;\n",
       "    }\n",
       "\n",
       "    .dataframe thead th {\n",
       "        text-align: right;\n",
       "    }\n",
       "</style>\n",
       "<table border=\"1\" class=\"dataframe\">\n",
       "  <thead>\n",
       "    <tr style=\"text-align: right;\">\n",
       "      <th></th>\n",
       "      <th>playerName</th>\n",
       "      <th>playerTeamId</th>\n",
       "      <th>eventType</th>\n",
       "      <th>eventSubType</th>\n",
       "      <th>gameTime</th>\n",
       "      <th>timeStamp</th>\n",
       "      <th>possessionTeamId</th>\n",
       "      <th>homeTeamId</th>\n",
       "      <th>awayTeamId</th>\n",
       "      <th>goalScoredFlag</th>\n",
       "    </tr>\n",
       "  </thead>\n",
       "  <tbody>\n",
       "    <tr>\n",
       "      <th>532</th>\n",
       "      <td>Alexandre Lacazette</td>\n",
       "      <td>3</td>\n",
       "      <td>attack</td>\n",
       "      <td>Chance Created</td>\n",
       "      <td>26:21</td>\n",
       "      <td>2017-08-11 20:12:25.790</td>\n",
       "      <td>3</td>\n",
       "      <td>3</td>\n",
       "      <td>13</td>\n",
       "      <td>0</td>\n",
       "    </tr>\n",
       "    <tr>\n",
       "      <th>533</th>\n",
       "      <td>Sead Kolasinac</td>\n",
       "      <td>3</td>\n",
       "      <td>shot</td>\n",
       "      <td>Shot Saved</td>\n",
       "      <td>26:22</td>\n",
       "      <td>2017-08-11 20:12:26.407</td>\n",
       "      <td>3</td>\n",
       "      <td>3</td>\n",
       "      <td>13</td>\n",
       "      <td>0</td>\n",
       "    </tr>\n",
       "    <tr>\n",
       "      <th>534</th>\n",
       "      <td>Kasper Schmeichel</td>\n",
       "      <td>13</td>\n",
       "      <td>defence</td>\n",
       "      <td>Save</td>\n",
       "      <td>26:22</td>\n",
       "      <td>2017-08-11 20:12:26.507</td>\n",
       "      <td>3</td>\n",
       "      <td>3</td>\n",
       "      <td>13</td>\n",
       "      <td>0</td>\n",
       "    </tr>\n",
       "    <tr>\n",
       "      <th>535</th>\n",
       "      <td>Granit Xhaka</td>\n",
       "      <td>3</td>\n",
       "      <td>attack</td>\n",
       "      <td>Failed Pass</td>\n",
       "      <td>26:41</td>\n",
       "      <td>2017-08-11 20:12:45.128</td>\n",
       "      <td>3</td>\n",
       "      <td>3</td>\n",
       "      <td>13</td>\n",
       "      <td>0</td>\n",
       "    </tr>\n",
       "    <tr>\n",
       "      <th>536</th>\n",
       "      <td>Matty James</td>\n",
       "      <td>13</td>\n",
       "      <td>defence</td>\n",
       "      <td>Clearance</td>\n",
       "      <td>26:43</td>\n",
       "      <td>2017-08-11 20:12:47.364</td>\n",
       "      <td>13</td>\n",
       "      <td>3</td>\n",
       "      <td>13</td>\n",
       "      <td>0</td>\n",
       "    </tr>\n",
       "    <tr>\n",
       "      <th>537</th>\n",
       "      <td>Mohamed Elneny</td>\n",
       "      <td>3</td>\n",
       "      <td>shot</td>\n",
       "      <td>Miss</td>\n",
       "      <td>26:44</td>\n",
       "      <td>2017-08-11 20:12:48.479</td>\n",
       "      <td>3</td>\n",
       "      <td>3</td>\n",
       "      <td>13</td>\n",
       "      <td>0</td>\n",
       "    </tr>\n",
       "    <tr>\n",
       "      <th>538</th>\n",
       "      <td>Danny Simpson</td>\n",
       "      <td>13</td>\n",
       "      <td>press</td>\n",
       "      <td>Pressure on Shot</td>\n",
       "      <td>26:44</td>\n",
       "      <td>2017-08-11 20:12:48.479</td>\n",
       "      <td>3</td>\n",
       "      <td>3</td>\n",
       "      <td>13</td>\n",
       "      <td>0</td>\n",
       "    </tr>\n",
       "    <tr>\n",
       "      <th>539</th>\n",
       "      <td>Matty James</td>\n",
       "      <td>13</td>\n",
       "      <td>press</td>\n",
       "      <td>Pressure on Shot</td>\n",
       "      <td>26:44</td>\n",
       "      <td>2017-08-11 20:12:48.479</td>\n",
       "      <td>3</td>\n",
       "      <td>3</td>\n",
       "      <td>13</td>\n",
       "      <td>0</td>\n",
       "    </tr>\n",
       "    <tr>\n",
       "      <th>540</th>\n",
       "      <td>Wes Morgan</td>\n",
       "      <td>13</td>\n",
       "      <td>press</td>\n",
       "      <td>Pressure on Shot</td>\n",
       "      <td>26:44</td>\n",
       "      <td>2017-08-11 20:12:48.479</td>\n",
       "      <td>3</td>\n",
       "      <td>3</td>\n",
       "      <td>13</td>\n",
       "      <td>0</td>\n",
       "    </tr>\n",
       "    <tr>\n",
       "      <th>541</th>\n",
       "      <td>Kasper Schmeichel</td>\n",
       "      <td>13</td>\n",
       "      <td>attack</td>\n",
       "      <td>Failed Pass</td>\n",
       "      <td>27:13</td>\n",
       "      <td>2017-08-11 20:13:16.554</td>\n",
       "      <td>13</td>\n",
       "      <td>3</td>\n",
       "      <td>13</td>\n",
       "      <td>0</td>\n",
       "    </tr>\n",
       "    <tr>\n",
       "      <th>542</th>\n",
       "      <td>Héctor Bellerín</td>\n",
       "      <td>3</td>\n",
       "      <td>attack</td>\n",
       "      <td>Failed Pass</td>\n",
       "      <td>27:16</td>\n",
       "      <td>2017-08-11 20:13:19.554</td>\n",
       "      <td>3</td>\n",
       "      <td>3</td>\n",
       "      <td>13</td>\n",
       "      <td>0</td>\n",
       "    </tr>\n",
       "  </tbody>\n",
       "</table>\n",
       "</div>"
      ],
      "text/plain": [
       "              playerName  playerTeamId eventType      eventSubType gameTime  \\\n",
       "532  Alexandre Lacazette             3    attack    Chance Created    26:21   \n",
       "533       Sead Kolasinac             3      shot        Shot Saved    26:22   \n",
       "534    Kasper Schmeichel            13   defence              Save    26:22   \n",
       "535         Granit Xhaka             3    attack       Failed Pass    26:41   \n",
       "536          Matty James            13   defence         Clearance    26:43   \n",
       "537       Mohamed Elneny             3      shot              Miss    26:44   \n",
       "538        Danny Simpson            13     press  Pressure on Shot    26:44   \n",
       "539          Matty James            13     press  Pressure on Shot    26:44   \n",
       "540           Wes Morgan            13     press  Pressure on Shot    26:44   \n",
       "541    Kasper Schmeichel            13    attack       Failed Pass    27:13   \n",
       "542      Héctor Bellerín             3    attack       Failed Pass    27:16   \n",
       "\n",
       "                  timeStamp  possessionTeamId  homeTeamId  awayTeamId  \\\n",
       "532 2017-08-11 20:12:25.790                 3           3          13   \n",
       "533 2017-08-11 20:12:26.407                 3           3          13   \n",
       "534 2017-08-11 20:12:26.507                 3           3          13   \n",
       "535 2017-08-11 20:12:45.128                 3           3          13   \n",
       "536 2017-08-11 20:12:47.364                13           3          13   \n",
       "537 2017-08-11 20:12:48.479                 3           3          13   \n",
       "538 2017-08-11 20:12:48.479                 3           3          13   \n",
       "539 2017-08-11 20:12:48.479                 3           3          13   \n",
       "540 2017-08-11 20:12:48.479                 3           3          13   \n",
       "541 2017-08-11 20:13:16.554                13           3          13   \n",
       "542 2017-08-11 20:13:19.554                 3           3          13   \n",
       "\n",
       "     goalScoredFlag  \n",
       "532               0  \n",
       "533               0  \n",
       "534               0  \n",
       "535               0  \n",
       "536               0  \n",
       "537               0  \n",
       "538               0  \n",
       "539               0  \n",
       "540               0  \n",
       "541               0  \n",
       "542               0  "
      ]
     },
     "execution_count": 173,
     "metadata": {},
     "output_type": "execute_result"
    }
   ],
   "source": [
    "eventId = 538\n",
    "df.loc[(df['eventId'] >= eventId-5)& (df['eventId'] <= eventId+5)][['playerName','playerTeamId','eventType','eventSubType','gameTime','timeStamp','possessionTeamId','homeTeamId','awayTeamId','goalScoredFlag']]"
   ]
  },
  {
   "cell_type": "code",
   "execution_count": 210,
   "metadata": {},
   "outputs": [
    {
     "data": {
      "text/plain": [
       "Index(['competition', 'season', 'seasonIndex', 'gameMonthIndex', 'matchId',\n",
       "       'playerId', 'playerName', 'position', 'detailedPosition',\n",
       "       'playerTeamId', 'minsPlayed', 'subIn', 'subOut',\n",
       "       'replacedReplacingPlayerId', 'booking', 'eventId', 'eventType',\n",
       "       'eventSubType', 'eventTypeId', 'x1', 'y1', 'x2', 'y2', 'gameTime',\n",
       "       'timeStamp', 'periodId', 'homeTeamName', 'homeTeamId', 'awayTeamName',\n",
       "       'awayTeamId', 'kickOffDateTime', 'minute', 'second', 'x1_m', 'y1_m',\n",
       "       'x2_m', 'y2_m', 'possessionTeamId', 'possessionSequenceIndex',\n",
       "       'possessionStartTime', 'possessionTimeSec', 'playerPossessionTimeSec',\n",
       "       'goalDelta', 'numReds', 'goalScoredFlag', 'xT', 'x_dist_goal',\n",
       "       'x_dist_goal_2', 'c1_m', 'c1_m_2', 'vec_x', 'vec_y', 'D', 'Dsquared',\n",
       "       'Dcubed', 'a', 'aShooting'],\n",
       "      dtype='object')"
      ]
     },
     "execution_count": 210,
     "metadata": {},
     "output_type": "execute_result"
    }
   ],
   "source": [
    "df_shots.columns"
   ]
  },
  {
   "cell_type": "code",
   "execution_count": 215,
   "metadata": {},
   "outputs": [
    {
     "name": "stdout",
     "output_type": "stream",
     "text": [
      "Processed 0 shots out of 10\n",
      "CPU times: user 1.92 s, sys: 16.3 ms, total: 1.94 s\n",
      "Wall time: 1.76 s\n"
     ]
    }
   ],
   "source": [
    "%%time\n",
    "\n",
    "# storing list of counts of pressures on shots\n",
    "lst_pressureCountOnShot = []\n",
    "\n",
    "# getting list of all shot eventId's\n",
    "shot_eventIds = df_shots.eventId.values[:10]\n",
    "\n",
    "# iterating through shots\n",
    "for n, shot in enumerate(shot_eventIds):\n",
    "    \n",
    "    if n % 1000 == 0:\n",
    "        print (f'Processed {n} shots out of {len(shot_eventIds)}')\n",
    "    \n",
    "    # getting shot meta to query the full event dataframe with: matchId,  teamId, timestamp\n",
    "    matchId, teamId, timeStamp = df_shots.loc[df_shots['eventId'] == shot, ['matchId','playerTeamId','timeStamp']].values[0]\n",
    "    \n",
    "    # producing a dataframe of pressures on each shot, where the pressure must be coming from a player on the other team to the one taking a shot\n",
    "    # and of course must be happening in the same match\n",
    "    # and has been recorded two seconds either side of the shot (this is the timedelta logic)\n",
    "    ## THIS IS A VERY EXPENSIVE QUERY TO RUN\n",
    "    df_shotPressure = df.loc[(df['eventSubType'] == 'Pressure on Shot') & (df['playerTeamId'] != teamId) & (df['matchId'] ==  matchId) &\\\n",
    "                  (df['timeStamp'] > timeStamp - pd.Timedelta(2,'s')) & (df['timeStamp'] < timeStamp + pd.Timedelta(2,'s'))]\n",
    "            \n",
    "    # and we set the pressureCountOnShot metric to simply be the count of the players that are applying pressure to the shot\n",
    "    lst_pressureCountOnShot.append(len(df_shotPressure))\n",
    "    \n",
    "# updating df_shots dataframe all at once\n",
    "df_shots['pressureCountOnShot'] = lst_pressureCountOnShot\n",
    "    "
   ]
  },
  {
   "cell_type": "code",
   "execution_count": 202,
   "metadata": {},
   "outputs": [
    {
     "name": "stdout",
     "output_type": "stream",
     "text": [
      "CPU times: user 54.6 s, sys: 568 ms, total: 55.2 s\n",
      "Wall time: 47.7 s\n"
     ]
    }
   ],
   "source": [
    "%%time\n",
    "\n",
    "# storing  0/1 list of penalties\n",
    "df_shots['penaltyFlag'] = 0\n",
    "\n",
    "# getting subset of of all shot eventId's that could be penalties due to the location of the shot (92.925,34.0)\n",
    "shot_eventIds = df_shots.loc[(df_shots['x1_m'] == 92.925) & (df_shots['y1_m'] == 34.000)].eventId.values\n",
    "\n",
    "# iterating through shots\n",
    "for shot in shot_eventIds:\n",
    "    \n",
    "    # getting shot meta to query the full event dataframe with: matchId,  teamId, timestamp\n",
    "    matchId, teamId, timeStamp = df_shots.loc[df_shots['eventId'] == shot, ['matchId','playerTeamId','timeStamp']].values[0]\n",
    "    \n",
    "    # producing a dataframe of pressures on each shot, where the pressure must be coming from a player on the other team to the one taking a shot\n",
    "    # and of course must be happening in the same match\n",
    "    # and has been recorded 5 minutes before the shot\n",
    "    df_penalty = df.loc[(df['playerTeamId'] != teamId) & (df['matchId'] ==  matchId) &\\\n",
    "                  (df['timeStamp'] > timeStamp - pd.Timedelta(300,'s')) & (df['timeStamp'] < timeStamp) &\\\n",
    "                  (df['eventSubType'].isin(['Conceded Penalty','Foul for Penalty']))]\n",
    "    \n",
    "    # and we set the pressureCountOnShot metric to simply be the count of the players that are applying pressure to the shot\n",
    "    df_shots.loc[df_shots['eventId'] == shot, 'penaltyFlag'] = 1 if len(df_penalty) > 0 else 0"
   ]
  },
  {
   "cell_type": "code",
   "execution_count": null,
   "metadata": {},
   "outputs": [],
   "source": []
  },
  {
   "cell_type": "code",
   "execution_count": 191,
   "metadata": {},
   "outputs": [
    {
     "data": {
      "text/html": [
       "<div>\n",
       "<style scoped>\n",
       "    .dataframe tbody tr th:only-of-type {\n",
       "        vertical-align: middle;\n",
       "    }\n",
       "\n",
       "    .dataframe tbody tr th {\n",
       "        vertical-align: top;\n",
       "    }\n",
       "\n",
       "    .dataframe thead th {\n",
       "        text-align: right;\n",
       "    }\n",
       "</style>\n",
       "<table border=\"1\" class=\"dataframe\">\n",
       "  <thead>\n",
       "    <tr style=\"text-align: right;\">\n",
       "      <th></th>\n",
       "      <th>playerName</th>\n",
       "      <th>playerTeamId</th>\n",
       "      <th>eventType</th>\n",
       "      <th>eventSubType</th>\n",
       "      <th>gameTime</th>\n",
       "      <th>timeStamp</th>\n",
       "      <th>possessionTeamId</th>\n",
       "      <th>homeTeamId</th>\n",
       "      <th>awayTeamId</th>\n",
       "      <th>goalScoredFlag</th>\n",
       "      <th>x1_m</th>\n",
       "      <th>y1_m</th>\n",
       "    </tr>\n",
       "  </thead>\n",
       "  <tbody>\n",
       "    <tr>\n",
       "      <th>14259</th>\n",
       "      <td>Emre Can</td>\n",
       "      <td>14</td>\n",
       "      <td>attack</td>\n",
       "      <td>Pass</td>\n",
       "      <td>53:45</td>\n",
       "      <td>2017-08-12 13:43:10.683</td>\n",
       "      <td>14</td>\n",
       "      <td>57</td>\n",
       "      <td>14</td>\n",
       "      <td>0</td>\n",
       "      <td>70.455</td>\n",
       "      <td>53.516</td>\n",
       "    </tr>\n",
       "    <tr>\n",
       "      <th>14260</th>\n",
       "      <td>Joel Matip</td>\n",
       "      <td>14</td>\n",
       "      <td>attack</td>\n",
       "      <td>Pass</td>\n",
       "      <td>53:50</td>\n",
       "      <td>2017-08-12 13:43:15.412</td>\n",
       "      <td>14</td>\n",
       "      <td>57</td>\n",
       "      <td>14</td>\n",
       "      <td>0</td>\n",
       "      <td>57.435</td>\n",
       "      <td>38.352</td>\n",
       "    </tr>\n",
       "    <tr>\n",
       "      <th>14261</th>\n",
       "      <td>Roberto Firmino</td>\n",
       "      <td>14</td>\n",
       "      <td>attack</td>\n",
       "      <td>Pass</td>\n",
       "      <td>53:51</td>\n",
       "      <td>2017-08-12 13:43:16.620</td>\n",
       "      <td>14</td>\n",
       "      <td>57</td>\n",
       "      <td>14</td>\n",
       "      <td>0</td>\n",
       "      <td>79.065</td>\n",
       "      <td>33.728</td>\n",
       "    </tr>\n",
       "    <tr>\n",
       "      <th>14262</th>\n",
       "      <td>Heurelho Gomes</td>\n",
       "      <td>57</td>\n",
       "      <td>defence</td>\n",
       "      <td>Foul for Penalty</td>\n",
       "      <td>53:55</td>\n",
       "      <td>2017-08-12 13:43:20.714</td>\n",
       "      <td>14</td>\n",
       "      <td>57</td>\n",
       "      <td>14</td>\n",
       "      <td>0</td>\n",
       "      <td>10.080</td>\n",
       "      <td>42.432</td>\n",
       "    </tr>\n",
       "    <tr>\n",
       "      <th>14263</th>\n",
       "      <td>Mohamed Salah</td>\n",
       "      <td>14</td>\n",
       "      <td>attack</td>\n",
       "      <td>Fouled</td>\n",
       "      <td>53:55</td>\n",
       "      <td>2017-08-12 13:43:20.714</td>\n",
       "      <td>14</td>\n",
       "      <td>57</td>\n",
       "      <td>14</td>\n",
       "      <td>0</td>\n",
       "      <td>94.920</td>\n",
       "      <td>25.568</td>\n",
       "    </tr>\n",
       "    <tr>\n",
       "      <th>14264</th>\n",
       "      <td>Heurelho Gomes</td>\n",
       "      <td>57</td>\n",
       "      <td>defence</td>\n",
       "      <td>Conceded Penalty</td>\n",
       "      <td>54:40</td>\n",
       "      <td>2017-08-12 13:44:04.935</td>\n",
       "      <td>14</td>\n",
       "      <td>57</td>\n",
       "      <td>14</td>\n",
       "      <td>0</td>\n",
       "      <td>0.000</td>\n",
       "      <td>36.924</td>\n",
       "    </tr>\n",
       "    <tr>\n",
       "      <th>14265</th>\n",
       "      <td>Roberto Firmino</td>\n",
       "      <td>14</td>\n",
       "      <td>shot</td>\n",
       "      <td>Goal</td>\n",
       "      <td>54:40</td>\n",
       "      <td>2017-08-12 13:44:04.935</td>\n",
       "      <td>14</td>\n",
       "      <td>57</td>\n",
       "      <td>14</td>\n",
       "      <td>1</td>\n",
       "      <td>92.925</td>\n",
       "      <td>34.000</td>\n",
       "    </tr>\n",
       "    <tr>\n",
       "      <th>14266</th>\n",
       "      <td>Tom Cleverley</td>\n",
       "      <td>57</td>\n",
       "      <td>attack</td>\n",
       "      <td>Pass</td>\n",
       "      <td>55:14</td>\n",
       "      <td>2017-08-12 13:44:39.128</td>\n",
       "      <td>57</td>\n",
       "      <td>57</td>\n",
       "      <td>14</td>\n",
       "      <td>0</td>\n",
       "      <td>52.395</td>\n",
       "      <td>33.524</td>\n",
       "    </tr>\n",
       "    <tr>\n",
       "      <th>14267</th>\n",
       "      <td>Miguel Britos</td>\n",
       "      <td>57</td>\n",
       "      <td>attack</td>\n",
       "      <td>Pass</td>\n",
       "      <td>55:19</td>\n",
       "      <td>2017-08-12 13:44:44.201</td>\n",
       "      <td>57</td>\n",
       "      <td>57</td>\n",
       "      <td>14</td>\n",
       "      <td>0</td>\n",
       "      <td>26.040</td>\n",
       "      <td>43.520</td>\n",
       "    </tr>\n",
       "    <tr>\n",
       "      <th>14268</th>\n",
       "      <td>Stefano Okaka</td>\n",
       "      <td>57</td>\n",
       "      <td>attack</td>\n",
       "      <td>Failed Pass</td>\n",
       "      <td>55:23</td>\n",
       "      <td>2017-08-12 13:44:47.913</td>\n",
       "      <td>57</td>\n",
       "      <td>57</td>\n",
       "      <td>14</td>\n",
       "      <td>0</td>\n",
       "      <td>65.835</td>\n",
       "      <td>44.948</td>\n",
       "    </tr>\n",
       "    <tr>\n",
       "      <th>14269</th>\n",
       "      <td>Trent Alexander-Arnold</td>\n",
       "      <td>14</td>\n",
       "      <td>press</td>\n",
       "      <td>Pressure on Pass</td>\n",
       "      <td>55:23</td>\n",
       "      <td>2017-08-12 13:44:47.913</td>\n",
       "      <td>57</td>\n",
       "      <td>57</td>\n",
       "      <td>14</td>\n",
       "      <td>0</td>\n",
       "      <td>39.165</td>\n",
       "      <td>23.052</td>\n",
       "    </tr>\n",
       "  </tbody>\n",
       "</table>\n",
       "</div>"
      ],
      "text/plain": [
       "                   playerName  playerTeamId eventType      eventSubType  \\\n",
       "14259                Emre Can            14    attack              Pass   \n",
       "14260              Joel Matip            14    attack              Pass   \n",
       "14261         Roberto Firmino            14    attack              Pass   \n",
       "14262          Heurelho Gomes            57   defence  Foul for Penalty   \n",
       "14263           Mohamed Salah            14    attack            Fouled   \n",
       "14264          Heurelho Gomes            57   defence  Conceded Penalty   \n",
       "14265         Roberto Firmino            14      shot              Goal   \n",
       "14266           Tom Cleverley            57    attack              Pass   \n",
       "14267           Miguel Britos            57    attack              Pass   \n",
       "14268           Stefano Okaka            57    attack       Failed Pass   \n",
       "14269  Trent Alexander-Arnold            14     press  Pressure on Pass   \n",
       "\n",
       "      gameTime               timeStamp  possessionTeamId  homeTeamId  \\\n",
       "14259    53:45 2017-08-12 13:43:10.683                14          57   \n",
       "14260    53:50 2017-08-12 13:43:15.412                14          57   \n",
       "14261    53:51 2017-08-12 13:43:16.620                14          57   \n",
       "14262    53:55 2017-08-12 13:43:20.714                14          57   \n",
       "14263    53:55 2017-08-12 13:43:20.714                14          57   \n",
       "14264    54:40 2017-08-12 13:44:04.935                14          57   \n",
       "14265    54:40 2017-08-12 13:44:04.935                14          57   \n",
       "14266    55:14 2017-08-12 13:44:39.128                57          57   \n",
       "14267    55:19 2017-08-12 13:44:44.201                57          57   \n",
       "14268    55:23 2017-08-12 13:44:47.913                57          57   \n",
       "14269    55:23 2017-08-12 13:44:47.913                57          57   \n",
       "\n",
       "       awayTeamId  goalScoredFlag    x1_m    y1_m  \n",
       "14259          14               0  70.455  53.516  \n",
       "14260          14               0  57.435  38.352  \n",
       "14261          14               0  79.065  33.728  \n",
       "14262          14               0  10.080  42.432  \n",
       "14263          14               0  94.920  25.568  \n",
       "14264          14               0   0.000  36.924  \n",
       "14265          14               1  92.925  34.000  \n",
       "14266          14               0  52.395  33.524  \n",
       "14267          14               0  26.040  43.520  \n",
       "14268          14               0  65.835  44.948  \n",
       "14269          14               0  39.165  23.052  "
      ]
     },
     "execution_count": 191,
     "metadata": {},
     "output_type": "execute_result"
    }
   ],
   "source": [
    "eventId = 14265\n",
    "df.loc[(df['eventId'] >= eventId-5)& (df['eventId'] <= eventId+5)][['playerName','playerTeamId','eventType','eventSubType','gameTime','timeStamp','possessionTeamId','homeTeamId','awayTeamId','goalScoredFlag','x1_m','y1_m']]"
   ]
  }
 ],
 "metadata": {
  "kernelspec": {
   "display_name": "py37_football",
   "language": "python",
   "name": "py37_football"
  },
  "language_info": {
   "codemirror_mode": {
    "name": "ipython",
    "version": 3
   },
   "file_extension": ".py",
   "mimetype": "text/x-python",
   "name": "python",
   "nbconvert_exporter": "python",
   "pygments_lexer": "ipython3",
   "version": "3.7.8"
  }
 },
 "nbformat": 4,
 "nbformat_minor": 4
}
