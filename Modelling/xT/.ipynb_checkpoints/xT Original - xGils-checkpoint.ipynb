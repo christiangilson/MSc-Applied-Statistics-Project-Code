{
 "cells": [
  {
   "cell_type": "code",
   "execution_count": 1,
   "metadata": {},
   "outputs": [],
   "source": [
    "import pandas as pd\n",
    "import numpy as np\n",
    "from scipy.interpolate import interp2d\n",
    "import os\n",
    "\n",
    "pd.set_option('max_columns', None)\n",
    "pd.set_option('max_rows', 120)\n",
    "\n",
    "# for visualising the matrices\n",
    "import matplotlib.pyplot as plt\n",
    "import matplotlib.cm as cm\n",
    "\n",
    "import warnings\n",
    "warnings.filterwarnings('ignore')"
   ]
  },
  {
   "cell_type": "code",
   "execution_count": 2,
   "metadata": {},
   "outputs": [],
   "source": [
    "import xGils.xLoad as xLoad\n",
    "import xGils.xT as xT"
   ]
  },
  {
   "cell_type": "code",
   "execution_count": 3,
   "metadata": {},
   "outputs": [],
   "source": [
    "output_data_repo = '/Users/christian/Desktop/University/Birkbeck MSc Applied Statistics/Project/Data/Analysis Ready/Original Opta xT'"
   ]
  },
  {
   "cell_type": "markdown",
   "metadata": {},
   "source": [
    "# **Loading Opta data**\n",
    "\n",
    "**4 Seasons of Data:**\n",
    "1. 17/18 season (City winners, United 2nd)\n",
    "2. 18/19 season (City winners, Liverpool 2nd)\n",
    "3. 19/20 season (Liverpool winners, City 2nd)\n",
    "4. 20/21 season (City winners, United 2nd)"
   ]
  },
  {
   "cell_type": "code",
   "execution_count": null,
   "metadata": {},
   "outputs": [],
   "source": [
    "df_opta_1718 = pd.read_csv('/Users/christian/Desktop/University/Birkbeck MSc Applied Statistics/Project/Data/Opta/EPL Data/Events/df_subevents_EPL_1718.csv')\n",
    "df_opta_1819 = pd.read_csv('/Users/christian/Desktop/University/Birkbeck MSc Applied Statistics/Project/Data/Opta/EPL Data/Events/df_subevents_EPL_1819.csv')\n",
    "df_opta_1920 = pd.read_csv('/Users/christian/Desktop/University/Birkbeck MSc Applied Statistics/Project/Data/Opta/EPL Data/Events/df_subevents_EPL_1920.csv')\n",
    "df_opta_2021 = pd.read_csv('/Users/christian/Desktop/University/Birkbeck MSc Applied Statistics/Project/Data/Opta/EPL Data/Events/df_subevents_EPL_2021.csv')\n",
    "\n",
    "df_opta_1718_cl = pd.read_csv('/Users/christian/Desktop/University/Birkbeck MSc Applied Statistics/Project/Data/Opta/CL Data/Events/df_subevents_CL_1718.csv')\n",
    "df_opta_1819_cl = pd.read_csv('/Users/christian/Desktop/University/Birkbeck MSc Applied Statistics/Project/Data/Opta/CL Data/Events/df_subevents_CL_1819.csv')\n",
    "\n",
    "df_opta_1718['competition'] = 'English Premier League'\n",
    "df_opta_1819['competition'] = 'English Premier League'\n",
    "df_opta_1920['competition'] = 'English Premier League'\n",
    "df_opta_2021['competition'] = 'English Premier League'\n",
    "\n",
    "df_opta_1718_cl['competition'] = 'Champions League'\n",
    "df_opta_1819_cl['competition'] = 'Champions League'\n",
    "\n",
    "df_opta_1718['season'] = '2017/18'\n",
    "df_opta_1819['season'] = '2018/19'\n",
    "df_opta_1920['season'] = '2019/20'\n",
    "df_opta_2021['season'] = '2020/21'\n",
    "\n",
    "df_opta_1718_cl['season'] = '2017/18'\n",
    "df_opta_1819_cl['season'] = '2018/19'\n",
    "\n",
    "df_opta_1718['seasonIndex'] = 1\n",
    "df_opta_1819['seasonIndex'] = 2\n",
    "df_opta_1920['seasonIndex'] = 3\n",
    "df_opta_2021['seasonIndex'] = 4\n",
    "\n",
    "df_opta_1718_cl['seasonIndex'] = 1\n",
    "df_opta_1819_cl['seasonIndex'] = 2\n",
    "\n",
    "df_opta = pd.concat([df_opta_1718, df_opta_1819, df_opta_1920, df_opta_2021, df_opta_1718_cl, df_opta_1819_cl])"
   ]
  },
  {
   "cell_type": "markdown",
   "metadata": {},
   "source": [
    "# **Loading Synthetic Shot Data**"
   ]
  },
  {
   "cell_type": "code",
   "execution_count": null,
   "metadata": {},
   "outputs": [],
   "source": [
    "df_synthetic = pd.read_csv('/Users/christian/Desktop/University/Birkbeck MSc Applied Statistics/Project/Data/Synthetic/Synthetic_Shots.csv')"
   ]
  },
  {
   "cell_type": "markdown",
   "metadata": {},
   "source": [
    "## Defining Opta action event buckets\n",
    "\n",
    "Splitting actions / events into buckets for:\n",
    "* Successful pass events;\n",
    "* Unsuccessful pass events;\n",
    "* Successful dribble events;\n",
    "* Unsuccessful dribble events;\n",
    "* Successful shot events;\n",
    "* Unsuccessful shot events."
   ]
  },
  {
   "cell_type": "code",
   "execution_count": null,
   "metadata": {},
   "outputs": [],
   "source": [
    "# pass events (inc. crosses)\n",
    "opta_successful_pass_events = ['2nd Assist','Assist','Chance Created','Cross','Pass']\n",
    "opta_failed_pass_events = ['Failed Pass','Offside Pass']\n",
    "\n",
    "# dribble events\n",
    "opta_successful_dribble_events = ['Dribble']\n",
    "opta_failed_dribble_events = ['Failed Dribble']\n",
    "\n",
    "# shot events\n",
    "opta_successful_shot_events = ['Goal']\n",
    "opta_failed_shot_events = ['Hit Woodwork','Miss','Missed Penalty','Penalty Saved','Shot Blocked','Shot Saved']"
   ]
  },
  {
   "cell_type": "code",
   "execution_count": null,
   "metadata": {},
   "outputs": [],
   "source": [
    "opta_events_relevant = opta_successful_dribble_events + opta_successful_pass_events + opta_successful_shot_events + opta_failed_dribble_events + opta_failed_pass_events + opta_failed_shot_events\n",
    "\n",
    "opta_events_relevant"
   ]
  },
  {
   "cell_type": "markdown",
   "metadata": {},
   "source": [
    "# Feature Engineering\n",
    "\n",
    "1. Converting string datetime fields -> datetime\n",
    "1. Inferring the end coords of Opta dribble events\n",
    "1. Transforming Opta coords to metres for a given pitch size"
   ]
  },
  {
   "cell_type": "markdown",
   "metadata": {},
   "source": [
    "# **Applying Tranformation Equations**"
   ]
  },
  {
   "cell_type": "code",
   "execution_count": null,
   "metadata": {},
   "outputs": [],
   "source": [
    "%%time\n",
    "\n",
    "df_opta = xLoad.apply_datetimes(df_opta)\n",
    "df_opta = xLoad.create_game_month_index(df_opta)\n",
    "df_opta = xLoad.opta_infer_dribble_end_coords(df_opta)\n",
    "df_opta = xLoad.coords_in_metres(df_opta, 'x1', 'x2', 'y1', 'y2')"
   ]
  },
  {
   "cell_type": "markdown",
   "metadata": {},
   "source": [
    "---\n",
    "\n",
    "# **xT**\n"
   ]
  },
  {
   "cell_type": "code",
   "execution_count": null,
   "metadata": {},
   "outputs": [],
   "source": [
    "N, M = 18, 12"
   ]
  },
  {
   "cell_type": "markdown",
   "metadata": {},
   "source": [
    "## 1) Looking at some of the xT components first, before putting it all together\n",
    "\n",
    "### Matrix Visualisation\n",
    "\n",
    "#### xG **WITHOUT** synthetic shots/goals"
   ]
  },
  {
   "cell_type": "code",
   "execution_count": null,
   "metadata": {},
   "outputs": [],
   "source": [
    "xG = xT.p_score_if_shoot(df_opta, opta_successful_shot_events, opta_failed_shot_events, 'eventSubType', N, M, 105, 68)\n",
    "\n",
    "fig = plt.figure(figsize=(18,12))\n",
    "plt.imshow(xG, interpolation='nearest', cmap=cm.Greys_r)"
   ]
  },
  {
   "cell_type": "markdown",
   "metadata": {},
   "source": [
    "#### xG **WITH** synthetic shots/goals"
   ]
  },
  {
   "cell_type": "code",
   "execution_count": null,
   "metadata": {},
   "outputs": [],
   "source": [
    "xG = xT.p_score_if_shoot(df_opta, opta_successful_shot_events, opta_failed_shot_events, 'eventSubType', N, M, 105, 68, use_synthetic=1, df_synthetic=df_synthetic)\n",
    "\n",
    "fig = plt.figure(figsize=(18,12))\n",
    "plt.imshow(xG, interpolation='nearest', cmap=cm.Greys_r)"
   ]
  },
  {
   "cell_type": "markdown",
   "metadata": {},
   "source": [
    "#### Probability of shooting"
   ]
  },
  {
   "cell_type": "code",
   "execution_count": null,
   "metadata": {},
   "outputs": [],
   "source": [
    "pS, pM = xT.p_shoot_or_move(df_opta, opta_successful_shot_events, opta_failed_shot_events, opta_successful_pass_events, opta_failed_pass_events, opta_successful_dribble_events, opta_failed_dribble_events, 'eventSubType', N, M, 105, 68)\n",
    "\n",
    "fig = plt.figure(figsize=(18,12))\n",
    "plt.imshow(pS, interpolation='nearest', cmap=cm.Greys_r)"
   ]
  },
  {
   "cell_type": "markdown",
   "metadata": {},
   "source": [
    "#### Probability of Moving"
   ]
  },
  {
   "cell_type": "code",
   "execution_count": null,
   "metadata": {},
   "outputs": [],
   "source": [
    "fig = plt.figure(figsize=(18,12))\n",
    "plt.imshow(pM, interpolation='nearest', cmap=cm.Greys_r)"
   ]
  },
  {
   "cell_type": "markdown",
   "metadata": {},
   "source": [
    "## 2. Calculating, visualising, and analysing xT **with synthetic shot data**"
   ]
  },
  {
   "cell_type": "code",
   "execution_count": null,
   "metadata": {},
   "outputs": [],
   "source": [
    "xT_surface, heatmaps = xT.xT_surface(df_opta, opta_successful_shot_events, opta_failed_shot_events, opta_successful_pass_events, opta_failed_pass_events, opta_successful_dribble_events, opta_failed_dribble_events, 'eventSubType', N, M, 105, 68, 1, df_synthetic)\n",
    "\n",
    "xT_interp = xT.bilinear_interp_xT(xT_surface)\n",
    "\n",
    "df_opta['xT'] = xT.apply_xT(df_opta, xT_surface, opta_successful_pass_events, opta_failed_pass_events, opta_successful_dribble_events, opta_failed_dribble_events, N, M, 105, 68, 100, xT_mode = 3)"
   ]
  },
  {
   "cell_type": "code",
   "execution_count": null,
   "metadata": {},
   "outputs": [],
   "source": [
    "plt.figure(figsize=(18,12))\n",
    "plt.imshow(xT_surface, interpolation='nearest', cmap=cm.coolwarm)"
   ]
  },
  {
   "cell_type": "code",
   "execution_count": null,
   "metadata": {},
   "outputs": [],
   "source": [
    "plt.figure(figsize=(18,12))\n",
    "plt.imshow(xT_interp, interpolation='nearest', cmap=cm.coolwarm)\n",
    "plt.axis('off')\n",
    "\n",
    "#plt.savefig(f'bilinear_interp.png', dpi=300, transparent=True)"
   ]
  },
  {
   "cell_type": "code",
   "execution_count": null,
   "metadata": {},
   "outputs": [],
   "source": [
    "fig, axs = plt.subplots(5,5, figsize=(25, 25), facecolor='w', edgecolor='k')\n",
    "fig.subplots_adjust(hspace = .01, wspace=.2)\n",
    "\n",
    "axs = axs.ravel()\n",
    "\n",
    "for i in range(len(heatmaps)):\n",
    "\n",
    "    axs[i].imshow(heatmaps[i], interpolation='nearest', cmap=cm.coolwarm)\n",
    "    axs[i].axes.get_xaxis().set_visible(False)\n",
    "    axs[i].axes.get_yaxis().set_visible(False)\n",
    "    \n",
    "#fig.savefig(f'iterative_solve_xT.png', dpi=300, transparent=True)"
   ]
  },
  {
   "cell_type": "markdown",
   "metadata": {},
   "source": [
    "---\n",
    "\n",
    "3. Produce some aggregate metrics per player as part of preliminary analysis\n",
    "\n",
    "(**Will go into this in far, far more detail in the Interim Report analysis**)"
   ]
  },
  {
   "cell_type": "code",
   "execution_count": null,
   "metadata": {},
   "outputs": [],
   "source": [
    "df_xT = df_opta.groupby(['competition','season','playerId','playerName','matchId'])\\\n",
    "        .agg({'xT':np.sum,'minsPlayed':np.mean,'x1':'count'})\\\n",
    "        .reset_index().rename(columns={'x1':'numActions'})\\\n",
    "        .groupby(['competition','season','playerId','playerName'])\\\n",
    "        .agg({'xT':np.sum,'minsPlayed':np.sum,'numActions':np.sum,'matchId':'nunique'})\\\n",
    "        .reset_index()\\\n",
    "        .rename(columns={'matchId':'numMatches'})\\\n",
    "        .sort_values('xT', ascending=False)\n",
    "\n",
    "df_xT['xT_per_90'] = (df_xT.xT / df_xT.minsPlayed) * 90\n",
    "\n",
    "# min mins filter\n",
    "df_xT = df_xT.loc[(df_xT['minsPlayed'] > 1000)]\n",
    "\n",
    "df_xT['season_xT_rank'] = df_xT.sort_values('xT', ascending=False).groupby(['competition','season']).cumcount() + 1\n",
    "df_xT['season_xT_per_90_rank'] = df_xT.sort_values('xT_per_90', ascending=False).groupby(['competition','season']).cumcount() + 1"
   ]
  },
  {
   "cell_type": "code",
   "execution_count": null,
   "metadata": {},
   "outputs": [],
   "source": [
    "df_xT.loc[df_xT['season_xT_per_90_rank'] <= 20].sort_values(['competition','season','season_xT_per_90_rank'], ascending=[True,True, True])"
   ]
  },
  {
   "cell_type": "markdown",
   "metadata": {},
   "source": [
    "# Outputting Data to Analysis Repo\n"
   ]
  },
  {
   "cell_type": "code",
   "execution_count": null,
   "metadata": {},
   "outputs": [],
   "source": [
    "## breaking out into competition specific dataframes\n",
    "df_epl = df_opta.loc[df_opta['competition'] == 'English Premier League'].copy()\n",
    "df_cl = df_opta.loc[df_opta['competition'] == 'Champions League'].copy()"
   ]
  },
  {
   "cell_type": "code",
   "execution_count": null,
   "metadata": {},
   "outputs": [],
   "source": [
    "df_opta.to_csv(os.path.join(output_data_repo, 'Original_Opta_xT.csv'), index=None)\n",
    "df_epl.to_csv(os.path.join(output_data_repo, 'Original_EPL_Opta_xT.csv'), index=None)\n",
    "df_cl.to_csv(os.path.join(output_data_repo, 'Original_CL_Opta_xT.csv'), index=None)"
   ]
  },
  {
   "cell_type": "code",
   "execution_count": null,
   "metadata": {},
   "outputs": [],
   "source": []
  }
 ],
 "metadata": {
  "kernelspec": {
   "display_name": "py37_football",
   "language": "python",
   "name": "py37_football"
  },
  "language_info": {
   "codemirror_mode": {
    "name": "ipython",
    "version": 3
   },
   "file_extension": ".py",
   "mimetype": "text/x-python",
   "name": "python",
   "nbconvert_exporter": "python",
   "pygments_lexer": "ipython3",
   "version": "3.7.8"
  }
 },
 "nbformat": 4,
 "nbformat_minor": 4
}
