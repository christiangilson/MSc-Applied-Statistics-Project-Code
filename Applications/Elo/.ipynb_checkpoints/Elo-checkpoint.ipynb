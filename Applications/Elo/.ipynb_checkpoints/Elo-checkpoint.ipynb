{
 "cells": [
  {
   "cell_type": "markdown",
   "metadata": {},
   "source": [
    "## Map out:\n",
    "\n",
    "* Dribble & Dribble Past Vs Failed Dribble & Tackle\n",
    "* Lost possession & Tackle (it's like a softer version of dribble)\n",
    "* Aerial Duel & Aerial Duel Lost\n",
    "\n",
    "> Failed Dribble & Failed Tackle = Neutral (attacking team still in possession, just couldn't beat man)"
   ]
  },
  {
   "cell_type": "code",
   "execution_count": null,
   "metadata": {},
   "outputs": [],
   "source": []
  }
 ],
 "metadata": {
  "kernelspec": {
   "display_name": "py37_football",
   "language": "python",
   "name": "py37_football"
  },
  "language_info": {
   "codemirror_mode": {
    "name": "ipython",
    "version": 3
   },
   "file_extension": ".py",
   "mimetype": "text/x-python",
   "name": "python",
   "nbconvert_exporter": "python",
   "pygments_lexer": "ipython3",
   "version": "3.7.8"
  }
 },
 "nbformat": 4,
 "nbformat_minor": 4
}
